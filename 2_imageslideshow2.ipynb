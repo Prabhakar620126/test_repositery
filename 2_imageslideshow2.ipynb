{
 "cells": [
  {
   "cell_type": "code",
   "execution_count": 1,
   "id": "1916fba9-f5df-427b-95e5-8c36ee6fbb7d",
   "metadata": {},
   "outputs": [],
   "source": [
    "import cv2\n",
    "import numpy as np\n",
    "import os "
   ]
  },
  {
   "cell_type": "code",
   "execution_count": 4,
   "id": "63e7b0ba-9e2f-40ed-979a-082e2ff988e5",
   "metadata": {},
   "outputs": [
    {
     "name": "stdout",
     "output_type": "stream",
     "text": [
      "['IMG20230404175333.jpg', 'IMG20230404175334.jpg', 'IMG20230404180650.jpg', 'IMG20230404180651.jpg', 'IMG20230404180652.jpg', 'IMG20230404180723.jpg', 'IMG20230404180724.jpg', 'IMG20230404180726.jpg', 'IMG20230404180811.jpg', 'IMG20230404180812.jpg', 'IMG20230404180813.jpg', 'IMG20230404180844.jpg', 'IMG20230404180848.jpg', 'IMG20230404180857.jpg', 'IMG20230404180859.jpg', 'IMG20230404180901.jpg', 'IMG20230404181924.jpg', 'IMG20230404181927.jpg', 'IMG20230404181929.jpg', 'IMG20230404181930.jpg', 'IMG20230404182001.jpg', 'IMG20230404182005.jpg', 'IMG20230404182013.jpg', 'IMG20230404182020.jpg', 'IMG20230404200637.jpg', 'IMG20230404200639.jpg']\n"
     ]
    }
   ],
   "source": [
    "list1 = os.listdir(r\"C:\\\\photo\")\n",
    "print(list1)"
   ]
  },
  {
   "cell_type": "code",
   "execution_count": 5,
   "id": "a7d292c2-c22b-4b14-aa47-9e20168640fe",
   "metadata": {},
   "outputs": [],
   "source": [
    "for i in list1:\n",
    "    path= \"C:\\\\photo\"\n",
    "    img_path= path + \"\\\\\"+i\n",
    "    img = cv2.imread(img_path)\n",
    "    img = cv2.resize( img,(700,800))\n",
    "    cv2.imshow(\"intro\",img)\n",
    "    cv2.waitKey(0)\n",
    "    \n",
    "cv2.destroyAllWindows()"
   ]
  },
  {
   "cell_type": "code",
   "execution_count": null,
   "id": "90859645-106c-478e-b661-cafd6e256b66",
   "metadata": {},
   "outputs": [],
   "source": []
  },
  {
   "cell_type": "code",
   "execution_count": null,
   "id": "ce613bbd-3b78-43f1-8529-bca6218bcf61",
   "metadata": {},
   "outputs": [],
   "source": []
  }
 ],
 "metadata": {
  "kernelspec": {
   "display_name": "Python [conda env:base] *",
   "language": "python",
   "name": "conda-base-py"
  },
  "language_info": {
   "codemirror_mode": {
    "name": "ipython",
    "version": 3
   },
   "file_extension": ".py",
   "mimetype": "text/x-python",
   "name": "python",
   "nbconvert_exporter": "python",
   "pygments_lexer": "ipython3",
   "version": "3.12.7"
  }
 },
 "nbformat": 4,
 "nbformat_minor": 5
}
